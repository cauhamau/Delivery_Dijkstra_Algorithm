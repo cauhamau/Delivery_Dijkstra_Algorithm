{
  "nbformat": 4,
  "nbformat_minor": 0,
  "metadata": {
    "colab": {
      "provenance": [],
      "toc_visible": true
    },
    "kernelspec": {
      "name": "python3",
      "display_name": "Python 3"
    },
    "language_info": {
      "name": "python"
    }
  },
  "cells": [
    {
      "cell_type": "code",
      "source": [
        "import pandas as pd\n",
        "\n",
        "# Đọc file Excel, bỏ qua hàng chứa tiêu đề \"Route\"\n",
        "file_path = \"/content/Book1.xlsx\"\n",
        "df = pd.read_excel(file_path, header=1)\n",
        "\n",
        "df.columns = [\"From\", \"To\", \"From_id\", \"To_id\", \"Leadtime\", \"Cost\"]\n",
        "# In ra dữ liệu trong sheet đã đọc\n",
        "print(df.head())"
      ],
      "metadata": {
        "colab": {
          "base_uri": "https://localhost:8080/"
        },
        "id": "ZU2Dnb__Qx9k",
        "outputId": "3dade5a0-4e94-4213-a959-3e1af26b3fd6"
      },
      "execution_count": null,
      "outputs": [
        {
          "output_type": "stream",
          "name": "stdout",
          "text": [
            "       From       To From_id To_id  Leadtime  Cost\n",
            "0  Hưng Yên   Hà Nội      P1    D1       0.3   0.3\n",
            "1  Hưng Yên  Đà Nẵng      P1    D2       3.0   3.0\n",
            "2   Thủ Đức   Hà Nội      P2    D1       7.0   8.0\n",
            "3   Thủ Đức  Đà Nẵng      P2    D2       6.0   6.0\n",
            "4   Thủ Đức   TP.HCM      P2    D3       0.3   0.3\n"
          ]
        }
      ]
    },
    {
      "cell_type": "code",
      "source": [
        "import heapq\n",
        "\n",
        "def dijkstra(graph, start, end):\n",
        "    heap = [(0, start)]\n",
        "    visited = set()\n",
        "    distances = {start: 0}\n",
        "    predecessors = {}  # Lưu trữ các đỉnh trước đỉnh hiện tại trên đường đi ngắn nhất\n",
        "\n",
        "    while heap:\n",
        "        (cost, node) = heapq.heappop(heap)\n",
        "\n",
        "        if node == end:\n",
        "            path = []\n",
        "            while node is not None:\n",
        "                path.append(node)\n",
        "                node = predecessors.get(node)\n",
        "            path.reverse()\n",
        "            return [start, path, distances[end]]\n",
        "\n",
        "        if node not in visited:\n",
        "            visited.add(node)\n",
        "\n",
        "            for neighbor, weight in graph[node].items():\n",
        "                if neighbor not in visited:\n",
        "                    new_cost = round(cost + weight,4)\n",
        "                    if new_cost < distances.get(neighbor, float('inf')):\n",
        "                        distances[neighbor] = new_cost\n",
        "                        predecessors[neighbor] = node\n",
        "                        heapq.heappush(heap, (new_cost, neighbor))\n",
        "\n",
        "    return None  # Trả về None nếu không có đường đi từ start đến end\n",
        "\n",
        "# Bảng giá vận chuyển\n",
        "shipping_costs = {}\n",
        "for index, row in df.iterrows():\n",
        "    from_code = row['From_id']\n",
        "    to_code = row['To_id']\n",
        "    cost = row['Cost']\n",
        "    shipping_costs[(from_code, to_code)] = cost\n",
        "\n",
        "# Tạo đồ thị mới với tất cả đường có thể đi\n",
        "graph = {}\n",
        "for (source, dest), cost in shipping_costs.items():\n",
        "    if source not in graph:\n",
        "        graph[source] = {}\n",
        "    if dest not in graph:\n",
        "        graph[dest] = {}\n",
        "    graph[source][dest] = cost\n",
        "\n",
        "# Tạo đường đi ngắn nhất từ tất cả nhà máy và kho đến khách hàng\n",
        "def cheapest_shipping_costs(graph, start_nodes, end_node):\n",
        "    cheapest_costs = []\n",
        "    for start in start_nodes:\n",
        "      distances = dijkstra(graph, start, end_node)\n",
        "      cheapest_costs.append(distances)\n",
        "    return cheapest_costs"
      ],
      "metadata": {
        "id": "li9OFR4k6YqN"
      },
      "execution_count": null,
      "outputs": []
    },
    {
      "cell_type": "code",
      "source": [
        "def min_cost(arr): #Tìm chi phí nhỏ nhất trong tất cả đường đi\n",
        "  min = arr[0]\n",
        "  for i in arr[1:]:\n",
        "    if i != None:\n",
        "      if min==None:\n",
        "        min=i\n",
        "      elif i[2]<min[2]:\n",
        "        min=i\n",
        "  return min"
      ],
      "metadata": {
        "id": "7kwDs30_rea9"
      },
      "execution_count": null,
      "outputs": []
    },
    {
      "cell_type": "code",
      "source": [
        "unique_fromid = df['From_id'].unique()\n",
        "unique_fromid"
      ],
      "metadata": {
        "colab": {
          "base_uri": "https://localhost:8080/"
        },
        "id": "pjIQ--hx8snX",
        "outputId": "226dfbef-07c6-4fec-b436-68f563831c35"
      },
      "execution_count": null,
      "outputs": [
        {
          "output_type": "execute_result",
          "data": {
            "text/plain": [
              "array(['P1', 'P2', 'D1', 'D3', 'D2'], dtype=object)"
            ]
          },
          "metadata": {},
          "execution_count": 173
        }
      ]
    },
    {
      "cell_type": "code",
      "source": [
        "import copy\n",
        "def modify_graph_d(graph,warehouse1,warehouse2):\n",
        "  modified_data = copy.deepcopy(graph)\n",
        "  for key, value in modified_data.items():\n",
        "    if key.startswith('D'):\n",
        "        for inner_key in list(value.keys()):\n",
        "            if inner_key.startswith('C') and key not in [warehouse1,warehouse2]:\n",
        "                if inner_key in modified_data[key]:\n",
        "                #print(key,inner_key)\n",
        "                  del modified_data[key][inner_key]\n",
        "  return modified_data\n",
        "\n"
      ],
      "metadata": {
        "id": "C1PG4nu4diuz"
      },
      "execution_count": null,
      "outputs": []
    },
    {
      "cell_type": "code",
      "source": [
        "def solution(customer, unique_fromid, order, stock, graph):\n",
        "  cost = 0\n",
        "  result = []\n",
        "\n",
        "  #Nếu tất cả lượng tồn kho không đủ thì trả về -1\n",
        "  total_stock=sum(stock.values())\n",
        "  if total_stock < order:\n",
        "    return -1\n",
        "\n",
        "  #Tìm đường đi ngắn nhất từ các nhà máy, kho đến khách hàng.\n",
        "  sorted_paths = cheapest_shipping_costs(graph, unique_fromid, customer)\n",
        "\n",
        "  #Nếu kho có chi phí thấp nhất đủ hàng thì giao trực tiếp\n",
        "  min = min_cost(sorted_paths) #\n",
        "  if min==None:     #Nếu không có đường nào vận chuyển đến khách hàng.\n",
        "    return None\n",
        "  elif stock[min[0]]>=order:\n",
        "    return [min[1],order*min[2]]\n",
        "\n",
        "\n",
        "\n",
        "  temp = []\n",
        "  for i in range(len(sorted_paths)-1):\n",
        "    for j in range(i+1,len(sorted_paths)):\n",
        "      #Nếu bắt cặp rỗng hoặc bắt cặp với nhà máy thì bỏ qua\n",
        "      if sorted_paths[i] == None or sorted_paths[j] == None:\n",
        "        continue\n",
        "      elif sorted_paths[i][0].startswith('P') or sorted_paths[j][0].startswith('P'):\n",
        "        continue\n",
        "      else:\n",
        "        modify_graph = modify_graph_d(graph,sorted_paths[i][0],sorted_paths[j][0]) #Xoá hết tất cả đường đi từ kho đến khách hàng, chỉ giữ lại cặp đã chọn\n",
        "        temp = cheapest_shipping_costs(modify_graph, unique_fromid, customer) #\n",
        "        result_temp = []\n",
        "        total_cost = 0\n",
        "        temp_order = order\n",
        "\n",
        "        #Duyệt qua từng nhà máy, kho vận chuyển có chi phí đến khách hàng thấp nhất\n",
        "        #Xem cái nào chi phí thấp nhất thì ưu tiên lấy hàng ở đó trước\n",
        "        while temp_order>0 and len(temp)>0:\n",
        "          min = min_cost(temp)      #Nơi có phí vận chuyển thấp nhất\n",
        "          if min == None:     #Nếu nơi đó không có đường đi thì tiếp tục duyệt qua nơi khác\n",
        "            temp.remove(min)\n",
        "            continue\n",
        "          elif stock[min[0]] >= temp_order:  #Nếu chỗ đó đủ hàng thì dừng lại và lưu kết quả\n",
        "            result_temp.append(min[1:])\n",
        "            total_cost += min[2]*stock[min[0]]\n",
        "            temp_order = 0\n",
        "            break\n",
        "          elif stock[min[0]]<=0:    #Nếu chỗ đó không có hàng thì bỏ qua\n",
        "            temp.remove(min)\n",
        "            continue\n",
        "          else:                         #Nếu nơi đó vẫn chưa đủ hàng thì lấy hết hàng nơi đó và giảm bớt lượng order\n",
        "            result_temp.append(min[1:])\n",
        "            total_cost += min[2]*stock[min[0]]\n",
        "            temp_order -= stock[min[0]]\n",
        "            temp.remove(min)            #Bỏ ra khỏi danh sách duyệt\n",
        "        if temp_order==0:\n",
        "          result.append([result_temp,total_cost])\n",
        "  min = result[0]\n",
        "  for i in result[1:]:\n",
        "    if i[1] < min[1]:\n",
        "      min = i\n",
        "  #print(result)\n",
        "  return min\n"
      ],
      "metadata": {
        "id": "MEdn5nFH8S7b"
      },
      "execution_count": null,
      "outputs": []
    },
    {
      "cell_type": "code",
      "source": [
        "#Khởi tạo stock để tính thử\n",
        "stock = {}\n",
        "for i in unique_fromid:\n",
        "  stock[i] = 2\n",
        "\n",
        "\n",
        "#Thử với khách hàng C1 và order 10 món hàng\n",
        "print(solution(\"C1\",unique_fromid,10,stock,graph))"
      ],
      "metadata": {
        "colab": {
          "base_uri": "https://localhost:8080/"
        },
        "id": "SzWOhqiw-GHU",
        "outputId": "fcff3642-cf1b-4d77-dbd0-5fcfe00b25db"
      },
      "execution_count": null,
      "outputs": [
        {
          "output_type": "stream",
          "name": "stdout",
          "text": [
            "[[[['D1', 'C1'], 1.2], [['P1', 'D1', 'C1'], 1.5], [['D2', 'C1'], 3.0], [['P2', 'D2', 'C1'], 9.0], [['D3', 'D2', 'C1'], 9.0]], 47.4]\n"
          ]
        }
      ]
    }
  ]
}