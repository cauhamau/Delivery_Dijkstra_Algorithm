{
  "nbformat": 4,
  "nbformat_minor": 0,
  "metadata": {
    "colab": {
      "provenance": [],
      "collapsed_sections": [
        "ahbux_8wRJu0"
      ],
      "toc_visible": true
    },
    "kernelspec": {
      "name": "python3",
      "display_name": "Python 3"
    },
    "language_info": {
      "name": "python"
    }
  },
  "cells": [
    {
      "cell_type": "code",
      "execution_count": null,
      "metadata": {
        "id": "b-z-CtQPJzT-"
      },
      "outputs": [],
      "source": [
        "factory = [ \"Hung Yen\", \"Thu Duc\"]\n",
        "delivery_center = [\"Ha Noi\", \"Da Nang\", \"TPHCM\"]\n",
        "customers = [\n",
        "    \"Hải Phòng\",\n",
        "    \"Thanh Hóa\",\n",
        "    \"Lào Cai\",\n",
        "    \"Nghệ An\",\n",
        "    \"Quảng Ngãi\",\n",
        "    \"Vũng Tàu\",\n",
        "    \"Bình Dương\",\n",
        "    \"Long An\",\n",
        "    \"Vĩnh Long\",\n",
        "    \"Cần Thơ\"]\n",
        "cost_f2d = [[0.04, 0.64, -1],\n",
        "            [0.75, 0.73, 0.04]]\n",
        "cost_d2d = [[-1, 0.64, 0.7],\n",
        "            [-1, -1, -1],\n",
        "            [0.74, 1.05, -1]]\n",
        "cost_d2c = [[]]"
      ]
    },
    {
      "cell_type": "code",
      "source": [
        "import heapq\n",
        "\n",
        "def dijkstra(graph, start, end):\n",
        "    heap = [(0, start)]\n",
        "    visited = set()\n",
        "    distances = {start: 0}\n",
        "    predecessors = {}  # Lưu trữ các đỉnh trước đỉnh hiện tại trên đường đi ngắn nhất\n",
        "\n",
        "    while heap:\n",
        "        (cost, node) = heapq.heappop(heap)\n",
        "\n",
        "        if node == end:\n",
        "            path = []\n",
        "            while node is not None:\n",
        "                path.append(node)\n",
        "                node = predecessors.get(node)\n",
        "            path.reverse()\n",
        "            return [path, distances[end]]\n",
        "\n",
        "        if node not in visited:\n",
        "            visited.add(node)\n",
        "\n",
        "            for neighbor, weight in graph[node].items():\n",
        "                if neighbor not in visited:\n",
        "                    new_cost = cost + weight\n",
        "                    if new_cost < distances.get(neighbor, float('inf')):\n",
        "                        distances[neighbor] = new_cost\n",
        "                        predecessors[neighbor] = node\n",
        "                        heapq.heappush(heap, (new_cost, neighbor))\n",
        "\n",
        "    return None  # Trả về None nếu không có đường đi từ start đến end\n",
        "\n",
        "# Bảng giá vận chuyển\n",
        "shipping_costs = {\n",
        "    ('P1', 'D1'): 0.04,\n",
        "    ('P1', 'D2'): 0.64,\n",
        "    ('P2', 'D1'): 0.75,\n",
        "    ('P2', 'D2'): 0.73,\n",
        "    ('P2', 'D3'): 0.04,\n",
        "    ('D1', 'D2'): 0.64,\n",
        "    ('D1', 'D3'): 0.7,\n",
        "    ('D3', 'D2'): 1.05,\n",
        "    ('D3', 'D1'): 0.74,\n",
        "    ('D1', 'C1'): 0.16,\n",
        "    ('D1', 'C2'): 0.24,\n",
        "    ('D1', 'C3'): 0.4,\n",
        "    ('D2', 'C1'): 1.12,\n",
        "    ('D2', 'C4'): 0.84,\n",
        "    ('D2', 'C5'): 0.2,\n",
        "    ('D3', 'C1'): 2.52,\n",
        "    ('D3', 'C6'): 0.12,\n",
        "    ('D3', 'C7'): 0.1,\n",
        "    ('D3', 'C8'): 0.08,\n",
        "    ('D3', 'C9'): 0.2,\n",
        "    ('D3', 'C10'): 0.24,\n",
        "}\n",
        "\n",
        "# Tạo đồ thị mới với cả khách hàng\n",
        "graph = {}\n",
        "for (source, dest), cost in shipping_costs.items():\n",
        "    if source not in graph:\n",
        "        graph[source] = {}\n",
        "    if dest not in graph:\n",
        "        graph[dest] = {}\n",
        "    graph[source][dest] = cost\n",
        "\n",
        "start = 'D2'\n",
        "end = 'C6'\n",
        "sorted_paths = dijkstra(graph, start, end)"
      ],
      "metadata": {
        "colab": {
          "base_uri": "https://localhost:8080/"
        },
        "id": "kQ9GObw13K4C",
        "outputId": "a56f24bd-9d10-4a87-9ac2-08ecd2c0e5f0"
      },
      "execution_count": 12,
      "outputs": [
        {
          "output_type": "stream",
          "name": "stdout",
          "text": [
            "None\n"
          ]
        }
      ]
    },
    {
      "cell_type": "code",
      "source": [
        "graph"
      ],
      "metadata": {
        "colab": {
          "base_uri": "https://localhost:8080/"
        },
        "id": "5QtI63a946qu",
        "outputId": "37afa644-56e1-4893-dd5b-69187d1da16a"
      },
      "execution_count": 13,
      "outputs": [
        {
          "output_type": "execute_result",
          "data": {
            "text/plain": [
              "{'P1': {'D1': 0.04, 'D2': 0.64},\n",
              " 'D1': {'D2': 0.64, 'D3': 0.7, 'C1': 0.16, 'C2': 0.24, 'C3': 0.4},\n",
              " 'D2': {'C1': 1.12, 'C4': 0.84, 'C5': 0.2},\n",
              " 'P2': {'D1': 0.75, 'D2': 0.73, 'D3': 0.04},\n",
              " 'D3': {'D2': 1.05,\n",
              "  'D1': 0.74,\n",
              "  'C1': 2.52,\n",
              "  'C6': 0.12,\n",
              "  'C7': 0.1,\n",
              "  'C8': 0.08,\n",
              "  'C9': 0.2,\n",
              "  'C10': 0.24},\n",
              " 'C1': {},\n",
              " 'C2': {},\n",
              " 'C3': {},\n",
              " 'C4': {},\n",
              " 'C5': {},\n",
              " 'C6': {},\n",
              " 'C7': {},\n",
              " 'C8': {},\n",
              " 'C9': {},\n",
              " 'C10': {}}"
            ]
          },
          "metadata": {},
          "execution_count": 13
        }
      ]
    },
    {
      "cell_type": "markdown",
      "source": [
        "#Begin"
      ],
      "metadata": {
        "id": "zwskRyhE6U0Z"
      }
    },
    {
      "cell_type": "code",
      "source": [
        "import pandas as pd\n",
        "\n",
        "# Đọc file Excel, bỏ qua hàng chứa tiêu đề \"Route\"\n",
        "file_path = \"/content/Book1.xlsx\"\n",
        "df = pd.read_excel(file_path, header=1)\n",
        "\n",
        "df.columns = [\"From\", \"To\", \"From_id\", \"To_id\", \"Leadtime\", \"Cost\"]\n",
        "# In ra dữ liệu trong sheet đã đọc\n",
        "print(df.head())"
      ],
      "metadata": {
        "colab": {
          "base_uri": "https://localhost:8080/"
        },
        "id": "ZU2Dnb__Qx9k",
        "outputId": "3dade5a0-4e94-4213-a959-3e1af26b3fd6"
      },
      "execution_count": 133,
      "outputs": [
        {
          "output_type": "stream",
          "name": "stdout",
          "text": [
            "       From       To From_id To_id  Leadtime  Cost\n",
            "0  Hưng Yên   Hà Nội      P1    D1       0.3   0.3\n",
            "1  Hưng Yên  Đà Nẵng      P1    D2       3.0   3.0\n",
            "2   Thủ Đức   Hà Nội      P2    D1       7.0   8.0\n",
            "3   Thủ Đức  Đà Nẵng      P2    D2       6.0   6.0\n",
            "4   Thủ Đức   TP.HCM      P2    D3       0.3   0.3\n"
          ]
        }
      ]
    },
    {
      "cell_type": "code",
      "source": [
        "import heapq\n",
        "\n",
        "def dijkstra(graph, start, end):\n",
        "    heap = [(0, start)]\n",
        "    visited = set()\n",
        "    distances = {start: 0}\n",
        "    predecessors = {}  # Lưu trữ các đỉnh trước đỉnh hiện tại trên đường đi ngắn nhất\n",
        "\n",
        "    while heap:\n",
        "        (cost, node) = heapq.heappop(heap)\n",
        "\n",
        "        if node == end:\n",
        "            path = []\n",
        "            while node is not None:\n",
        "                path.append(node)\n",
        "                node = predecessors.get(node)\n",
        "            path.reverse()\n",
        "            return [start, path, distances[end]]\n",
        "\n",
        "        if node not in visited:\n",
        "            visited.add(node)\n",
        "\n",
        "            for neighbor, weight in graph[node].items():\n",
        "                if neighbor not in visited:\n",
        "                    new_cost = round(cost + weight,4)\n",
        "                    if new_cost < distances.get(neighbor, float('inf')):\n",
        "                        distances[neighbor] = new_cost\n",
        "                        predecessors[neighbor] = node\n",
        "                        heapq.heappush(heap, (new_cost, neighbor))\n",
        "\n",
        "    return None  # Trả về None nếu không có đường đi từ start đến end\n",
        "\n",
        "# Bảng giá vận chuyển\n",
        "shipping_costs = {}\n",
        "for index, row in df.iterrows():\n",
        "    from_code = row['From_id']\n",
        "    to_code = row['To_id']\n",
        "    cost = row['Cost']\n",
        "    shipping_costs[(from_code, to_code)] = cost\n",
        "\n",
        "# Tạo đồ thị mới với cả khách hàng\n",
        "graph = {}\n",
        "for (source, dest), cost in shipping_costs.items():\n",
        "    if source not in graph:\n",
        "        graph[source] = {}\n",
        "    if dest not in graph:\n",
        "        graph[dest] = {}\n",
        "    graph[source][dest] = cost\n",
        "\n",
        "# Tạo đường đi ngắn nhất từ tất cả nhà máy và kho đến khách hàng\n",
        "def cheapest_shipping_costs(graph, start_nodes, end_node):\n",
        "    cheapest_costs = []\n",
        "    for start in start_nodes:\n",
        "      distances = dijkstra(graph, start, end_node)\n",
        "      cheapest_costs.append(distances)\n",
        "    return cheapest_costs\n",
        "\n",
        "# start = 'D2'\n",
        "# end = 'C6'\n",
        "# sorted_paths = dijkstra(graph, start, end)\n",
        "# print(sorted_paths)"
      ],
      "metadata": {
        "id": "li9OFR4k6YqN"
      },
      "execution_count": 274,
      "outputs": []
    },
    {
      "cell_type": "code",
      "source": [
        "def min_cost(arr):\n",
        "  min = arr[0]\n",
        "  for i in arr[1:]:\n",
        "    if i != None:\n",
        "      if min==None:\n",
        "        min=i\n",
        "      elif i[2]<min[2]:\n",
        "        min=i\n",
        "  return min"
      ],
      "metadata": {
        "id": "7kwDs30_rea9"
      },
      "execution_count": 139,
      "outputs": []
    },
    {
      "cell_type": "code",
      "source": [
        "unique_fromid = df['From_id'].unique()\n",
        "unique_fromid"
      ],
      "metadata": {
        "colab": {
          "base_uri": "https://localhost:8080/"
        },
        "id": "pjIQ--hx8snX",
        "outputId": "226dfbef-07c6-4fec-b436-68f563831c35"
      },
      "execution_count": 173,
      "outputs": [
        {
          "output_type": "execute_result",
          "data": {
            "text/plain": [
              "array(['P1', 'P2', 'D1', 'D3', 'D2'], dtype=object)"
            ]
          },
          "metadata": {},
          "execution_count": 173
        }
      ]
    },
    {
      "cell_type": "code",
      "source": [
        "import copy\n",
        "def modify_graph_d(graph,warehouse1,warehouse2):\n",
        "  modified_data = copy.deepcopy(graph)\n",
        "  for key, value in modified_data.items():\n",
        "    if key.startswith('D'):\n",
        "        for inner_key in list(value.keys()):\n",
        "            if inner_key.startswith('C') and key not in [warehouse1,warehouse2]:\n",
        "                if inner_key in modified_data[key]:\n",
        "                #print(key,inner_key)\n",
        "                  del modified_data[key][inner_key]\n",
        "  return modified_data\n",
        "\n"
      ],
      "metadata": {
        "id": "C1PG4nu4diuz"
      },
      "execution_count": 279,
      "outputs": []
    },
    {
      "cell_type": "code",
      "source": [
        "def solution(customer, unique_fromid, order, stock, graph):\n",
        "  cost = 0\n",
        "  result = []\n",
        "\n",
        "  total_stock=sum(stock.values())\n",
        "  # print(total_stock)\n",
        "  if total_stock < order:\n",
        "    return -1\n",
        "  # print(\"Stock:\",total_stock)\n",
        "\n",
        "  # print(customer)\n",
        "  # print(\"Unique:\",unique_fromid)\n",
        "  # print(\"Graph:\",graph)\n",
        "  #Tìm đường đi ngắn nhất từ các nhà máy, kho đến khách hàng.\n",
        "#  for from_id in unique_fromid:\n",
        "#    sorted_paths.append(dijkstra(graph, from_id, customer))\n",
        "  sorted_paths = cheapest_shipping_costs(graph, unique_fromid, customer)\n",
        "  #Nếu 1 nhà máy hoặc kho đủ hàng\n",
        "  min = min_cost(sorted_paths)\n",
        "  # print(\"Paths:\",sorted_paths)\n",
        "  # print(min)\n",
        "  if min==None:     #Nếu không có đường nào vận chuyển đến khách hàng.\n",
        "    return None\n",
        "  elif stock[min[0]]>=order:\n",
        "    return [min[1],order*min[2]]\n",
        "\n",
        "\n",
        "\n",
        "  temp = []\n",
        "  # print(\"+\"*50)\n",
        "  # print(sorted_paths)\n",
        "  # print(\"+\"*50)\n",
        "  for i in range(len(sorted_paths)-1):\n",
        "    for j in range(i+1,len(sorted_paths)):\n",
        "      #Nếu bắt cặp rỗng hoặc bắt cặp với nhà máy thì bỏ qua\n",
        "      if sorted_paths[i] == None or sorted_paths[j] == None:\n",
        "        continue\n",
        "      elif sorted_paths[i][0].startswith('P') or sorted_paths[j][0].startswith('P'):\n",
        "        continue\n",
        "      else:\n",
        "        #print(\"WH:\",sorted_paths[i][0],sorted_paths[j][0])\n",
        "        modify_graph = modify_graph_d(graph,sorted_paths[i][0],sorted_paths[j][0])\n",
        "        temp = cheapest_shipping_costs(modify_graph, unique_fromid, customer)\n",
        "        result_temp = []\n",
        "        total_cost = 0\n",
        "        temp_order = order\n",
        "        #Duyệt qua từng nhà máy, kho vận chuyển xem cái nào chi phí thấp nhất thì ưu tiên lấy hàng ở đó trước\n",
        "        while temp_order>0 and len(temp)>0:\n",
        "          # print(\"-\"*50)\n",
        "          # print(temp)\n",
        "          # print(temp_order)\n",
        "          # print(result_temp)\n",
        "          # print(\"Len:\",len(temp))\n",
        "          min = min_cost(temp)      #Nơi có phí vận chuyển thấp nhất\n",
        "          if min == None:     #Nếu nơi đó không có đường đi thì tiếp tục duyệt qua nơi khác\n",
        "            temp.remove(min)\n",
        "            continue\n",
        "          elif stock[min[0]] >= temp_order:  #Nếu chỗ đó đủ hàng thì dừng lại và lưu kết quả\n",
        "            result_temp.append(min[1:])\n",
        "            total_cost += min[2]*stock[min[0]]\n",
        "            temp_order = 0\n",
        "            break\n",
        "          elif stock[min[0]]<=0:    #Nếu chỗ đó không có hàng thì bỏ qua\n",
        "            temp.remove(min)\n",
        "            continue\n",
        "          else:\n",
        "            result_temp.append(min[1:])\n",
        "            total_cost += min[2]*stock[min[0]]\n",
        "            temp_order -= stock[min[0]]\n",
        "            temp.remove(min)\n",
        "        if temp_order==0:\n",
        "          result.append([result_temp,total_cost])\n",
        "  min = result[0]\n",
        "  for i in result[1:]:\n",
        "    if i[1] < min[1]:\n",
        "      min = i\n",
        "  #print(result)\n",
        "  return min\n"
      ],
      "metadata": {
        "id": "MEdn5nFH8S7b"
      },
      "execution_count": 326,
      "outputs": []
    },
    {
      "cell_type": "code",
      "source": [
        "stock = {}\n",
        "for i in unique_fromid:\n",
        "  stock[i] = 2\n",
        "print(solution(\"C1\",unique_fromid,10,stock,graph))"
      ],
      "metadata": {
        "colab": {
          "base_uri": "https://localhost:8080/"
        },
        "id": "SzWOhqiw-GHU",
        "outputId": "fcff3642-cf1b-4d77-dbd0-5fcfe00b25db"
      },
      "execution_count": 327,
      "outputs": [
        {
          "output_type": "stream",
          "name": "stdout",
          "text": [
            "[[[['D1', 'C1'], 1.2], [['P1', 'D1', 'C1'], 1.5], [['D2', 'C1'], 3.0], [['P2', 'D2', 'C1'], 9.0], [['D3', 'D2', 'C1'], 9.0]], 47.4]\n"
          ]
        }
      ]
    },
    {
      "cell_type": "code",
      "source": [
        "data = {\n",
        "    'P1': {'D1': 0.04, 'D2': 0.64},\n",
        "    'D1': {'D2': 0.64, 'D3': 0.7, 'C1': 0.16, 'C2': 0.24, 'C3': 0.4},\n",
        "    'D2': {'C1': 1.12, 'C4': 0.84, 'C5': 0.2},\n",
        "    'P2': {'D1': 0.75, 'D2': 0.73, 'D3': 0.04},\n",
        "    'D3': {'D2': 1.05, 'D1': 0.74, 'C1': 2.52, 'C6': 0.12, 'C7': 0.1, 'C8': 0.08, 'C9': 0.2, 'C10': 0.24},\n",
        "    'C1': {},\n",
        "    'C2': {},\n",
        "    'C3': {},\n",
        "    'C4': {},\n",
        "    'C5': {},\n",
        "    'C6': {},\n",
        "    'C7': {},\n",
        "    'C8': {},\n",
        "    'C9': {},\n",
        "    'C10': {}\n",
        "}\n",
        "\n",
        "# Tạo một bản sao của từ điển để tránh thay đổi trong quá trình lặp\n",
        "modified_data = data.copy()\n",
        "\n",
        "for key, value in data.items():\n",
        "    if 'D3' in value or key=='D3':\n",
        "        del modified_data[key]\n",
        "\n",
        "print(\"Từ điển sau khi xoá tất cả các phần tử có chứa 'D3':\")\n",
        "print(modified_data)\n"
      ],
      "metadata": {
        "colab": {
          "base_uri": "https://localhost:8080/"
        },
        "id": "mTiZFLxmaXiN",
        "outputId": "2e1e8d4d-4555-48b5-9d40-a0e9895687d2"
      },
      "execution_count": 155,
      "outputs": [
        {
          "output_type": "stream",
          "name": "stdout",
          "text": [
            "Từ điển sau khi xoá tất cả các phần tử có chứa 'D3':\n",
            "{'P1': {'D1': 0.04, 'D2': 0.64}, 'D2': {'C1': 1.12, 'C4': 0.84, 'C5': 0.2}, 'C1': {}, 'C2': {}, 'C3': {}, 'C4': {}, 'C5': {}, 'C6': {}, 'C7': {}, 'C8': {}, 'C9': {}, 'C10': {}}\n"
          ]
        }
      ]
    },
    {
      "cell_type": "markdown",
      "source": [
        "#Error"
      ],
      "metadata": {
        "id": "ahbux_8wRJu0"
      }
    },
    {
      "cell_type": "code",
      "source": [
        "import numpy as np\n",
        "factory = []\n",
        "delivery_center = []\n",
        "customer = []\n",
        "\n",
        "\n",
        "cost_f2d = np.full((2,3),-1.0) #2 nhà máy, 3 trung tâm giao hàng\n",
        "cost_d2d = np.full((3,3),-1.0)\n",
        "cost_d2c = np.full((3,10),-1.0) #3 trung tâm giao hàng, 10 khách hàng\n",
        "\n"
      ],
      "metadata": {
        "id": "DVS2P2o_SR8s"
      },
      "execution_count": null,
      "outputs": []
    },
    {
      "cell_type": "code",
      "source": [
        "# for i in range(len(df)):\n",
        "#   #print(i)\n",
        "#   from_int = int(df[\"From_id\"][i][1:])-1\n",
        "#   to_int = int(df[\"To_id\"][i][1:])-1\n",
        "#   if df[\"From_id\"][i][0]==\"P\":\n",
        "#     cost_f2d[from_int][to_int] = float(df[\"Cost\"][i])\n",
        "#   elif df[\"To_id\"][i][0]==\"D\":\n",
        "#     cost_d2d[from_int][to_int] = float(df[\"Cost\"][i])\n",
        "#   else:\n",
        "#     cost_d2c[from_int][to_int] = float(df[\"Cost\"][i])\n"
      ],
      "metadata": {
        "id": "zUCE_syiUXIj"
      },
      "execution_count": null,
      "outputs": []
    },
    {
      "cell_type": "code",
      "source": [
        "# stock_f = np.full(2,99999999)\n",
        "# stock_d = np.full(3,99999999)"
      ],
      "metadata": {
        "id": "3cCCHpIoqQme"
      },
      "execution_count": null,
      "outputs": []
    },
    {
      "cell_type": "code",
      "source": [
        "#import heapq\n",
        "def solution(customer,stock,stock_d,stock_f,cost_f2d,cost_d2d,cost_d2c):\n",
        "  cost = 0\n",
        "  result = []\n",
        "  cost_d2customer = [row[int(customer[1:])-1] for row in cost_d2c] #Cost từ delivery đến customer\n",
        "\n",
        "  #Nếu kho có cost nhỏ nhất đủ hàng\n",
        "  min_d2c = min_cost(cost_d2customer)\n",
        "  id_d2c = cost_d2customer.index(min_d2c)\n",
        "  if stock_d[id_d2c]>=stock:\n",
        "      result.append([[f\"D{id_d2c+1}\",stock,stock*cost_d2customer[id_d2c]]])\n",
        "      print(result)\n",
        "      return result[0][0][2]\n",
        "\n",
        "\n",
        "\n",
        "  #Duyệt qua từng delivery\n",
        "  for i in range(len(cost_d2customer)):\n",
        "    if stock_d[id_d2c]==0 or cost_d2customer==-1:\n",
        "      continue\n",
        "    elif stock_d[id_d2c]>=stock:\n",
        "      result.append([[f\"D{id_d2c+1}\",stock,stock*cost_d2customer[id_d2c]]])\n",
        "    else:\n",
        "      result_temp = []\n",
        "\n",
        "\n",
        "\n",
        "\n",
        "  #   else:\n",
        "  #     stock -= stock_d[id_d2c]\n",
        "  #     result_temp = []\n",
        "  #     result_temp.append([f\"D{id_d2c+1}\",stock_d[id_d2c],stock_d[id_d2c]*cost_d2customer[id_d2c]])\n",
        "\n",
        "\n",
        "  #     cost_d2delivery = [row[id_d2c] for row in cost_d2d]\n",
        "  #     for j in range(len(cost_d2delivery)):\n",
        "  #       min_f2d = heapq.nsmallest(i+1, cost_d2delivery)[-1]\n",
        "  #       id_d2d = cost_d2delivery.index(min_f2d)\n",
        "  #       if stock_d[id_d2d]==0:\n",
        "  #         continue\n",
        "\n",
        "\n",
        "  #   print(result)\n",
        "  #   for i in result:\n",
        "  #     for j in i:\n",
        "  #       print(j)\n",
        "  #       cost+=j[2]\n",
        "  return cost"
      ],
      "metadata": {
        "id": "caN7NVvurH8G"
      },
      "execution_count": null,
      "outputs": []
    },
    {
      "cell_type": "code",
      "source": [
        "def delivery_to_warehouse(warehouse,stock,stock_d,stock_f,cost_f2d,cost_d2d):\n",
        "  cost_d2warehouse = [row[int(customer[1:])-1] for row in cost_d2d]\n",
        "  stock_a ="
      ],
      "metadata": {
        "id": "tEw-LLKuZK7Y"
      },
      "execution_count": null,
      "outputs": []
    },
    {
      "cell_type": "code",
      "source": [
        "cost_d2c"
      ],
      "metadata": {
        "colab": {
          "base_uri": "https://localhost:8080/"
        },
        "id": "3gzq854kMVj0",
        "outputId": "190019bd-bec4-4a62-8e05-71449d27a64c"
      },
      "execution_count": null,
      "outputs": [
        {
          "output_type": "execute_result",
          "data": {
            "text/plain": [
              "array([[ 0.16,  0.24,  0.4 , -1.  , -1.  , -1.  , -1.  , -1.  , -1.  ,\n",
              "        -1.  ],\n",
              "       [ 1.12, -1.  , -1.  ,  0.84,  0.2 , -1.  , -1.  , -1.  , -1.  ,\n",
              "        -1.  ],\n",
              "       [ 2.52, -1.  , -1.  , -1.  , -1.  ,  0.12,  0.1 ,  0.08,  0.2 ,\n",
              "         0.24]])"
            ]
          },
          "metadata": {},
          "execution_count": 43
        }
      ]
    },
    {
      "cell_type": "code",
      "source": [
        "print(solution(\"C6\",2,stock_d,stock_f,cost_f2d,cost_d2d,cost_d2c))"
      ],
      "metadata": {
        "colab": {
          "base_uri": "https://localhost:8080/"
        },
        "id": "_BR-_AbKxG8u",
        "outputId": "d0740dff-8c1b-424d-ed8d-3642ec21b476"
      },
      "execution_count": null,
      "outputs": [
        {
          "output_type": "stream",
          "name": "stdout",
          "text": [
            "[[['D3', 2, 0.24]]]\n",
            "0.24\n"
          ]
        }
      ]
    },
    {
      "cell_type": "code",
      "source": [
        "!pip install pulp"
      ],
      "metadata": {
        "colab": {
          "base_uri": "https://localhost:8080/"
        },
        "id": "cd9tXKBNScQ7",
        "outputId": "860a0bc7-0b5a-477e-bf52-367018623d5b"
      },
      "execution_count": null,
      "outputs": [
        {
          "output_type": "stream",
          "name": "stdout",
          "text": [
            "Collecting pulp\n",
            "  Downloading PuLP-2.8.0-py3-none-any.whl (17.7 MB)\n",
            "\u001b[2K     \u001b[90m━━━━━━━━━━━━━━━━━━━━━━━━━━━━━━━━━━━━━━━━\u001b[0m \u001b[32m17.7/17.7 MB\u001b[0m \u001b[31m30.3 MB/s\u001b[0m eta \u001b[36m0:00:00\u001b[0m\n",
            "\u001b[?25hInstalling collected packages: pulp\n",
            "Successfully installed pulp-2.8.0\n"
          ]
        }
      ]
    },
    {
      "cell_type": "code",
      "source": [
        "import pulp\n",
        "\n",
        "# Define the problem\n",
        "prob = pulp.LpProblem(\"Minimize_Transportation_Costs\", pulp.LpMinimize)\n",
        "\n",
        "# Hypothetical lists of entities\n",
        "plants = ['P1', 'P2']\n",
        "warehouses = ['D1', 'D2', 'D3']\n",
        "customers = ['C1', 'C2', 'C3', 'C4', 'C5', 'C6', 'C7', 'C8', 'C9', 'C10']\n",
        "\n",
        "# Example data structure for costs (should be provided as input in reality)\n",
        "costs = {\n",
        "    ('P1', 'D1'): 3, ('P1', 'D2'): 8, #... and so on for all plant to warehouse costs\n",
        "    ('D1', 'C1'): 1.2, #... and so on for all warehouse to customer costs\n",
        "    ('P1', 'C1'): 10, #... and so on for direct plant to customer costs if applicable\n",
        "}\n",
        "\n",
        "# Decision variables\n",
        "x = pulp.LpVariable.dicts(\"shipment_plant_warehouse\", costs.keys(), lowBound=0, cat='Integer')\n",
        "y = pulp.LpVariable.dicts(\"shipment_warehouse_customer\", costs.keys(), lowBound=0, cat='Integer')\n",
        "z = pulp.LpVariable.dicts(\"shipment_plant_customer\", costs.keys(), lowBound=0, cat='Integer')\n",
        "\n",
        "# Objective function\n",
        "prob += pulp.lpSum([costs[k] * (x[k] + y[k] + z[k]) for k in costs.keys()]), \"Total Cost of Transportation\"\n",
        "\n",
        "# Constraints for customer demand\n",
        "for c in customers:\n",
        "    prob += pulp.lpSum([y[(d, c)] for d in warehouses] + [z[(p, c)] for p in plants]) == n, f\"Demand for customer {c}\"\n",
        "\n",
        "# Constraint for maximum warehouses per customer\n",
        "for c in customers:\n",
        "    prob += pulp.lpSum([pulp.lpSum([y[(d, c)] for d in warehouses]) > 0 for d in warehouses]) <= 2, f\"Max warehouses for customer {c}\"\n",
        "\n",
        "# Solve the problem\n",
        "prob.solve()\n",
        "\n",
        "# Output the results\n",
        "for v in prob.variables():\n",
        "    if v.varValue > 0:\n",
        "        print(v.name, \"=\", v.varValue)\n",
        "\n",
        "# Print the optimized total cost\n",
        "print(\"Total Cost of Transportation =\", pulp.value(prob.objective))\n"
      ],
      "metadata": {
        "colab": {
          "base_uri": "https://localhost:8080/",
          "height": 332
        },
        "id": "bolw7eEISbTl",
        "outputId": "41f4cf0c-ff06-4a23-dbe8-a608013fad83"
      },
      "execution_count": null,
      "outputs": [
        {
          "output_type": "error",
          "ename": "KeyError",
          "evalue": "('D2', 'C1')",
          "traceback": [
            "\u001b[0;31m---------------------------------------------------------------------------\u001b[0m",
            "\u001b[0;31mKeyError\u001b[0m                                  Traceback (most recent call last)",
            "\u001b[0;32m<ipython-input-3-34960620e984>\u001b[0m in \u001b[0;36m<cell line: 27>\u001b[0;34m()\u001b[0m\n\u001b[1;32m     26\u001b[0m \u001b[0;31m# Constraints for customer demand\u001b[0m\u001b[0;34m\u001b[0m\u001b[0;34m\u001b[0m\u001b[0m\n\u001b[1;32m     27\u001b[0m \u001b[0;32mfor\u001b[0m \u001b[0mc\u001b[0m \u001b[0;32min\u001b[0m \u001b[0mcustomers\u001b[0m\u001b[0;34m:\u001b[0m\u001b[0;34m\u001b[0m\u001b[0;34m\u001b[0m\u001b[0m\n\u001b[0;32m---> 28\u001b[0;31m     \u001b[0mprob\u001b[0m \u001b[0;34m+=\u001b[0m \u001b[0mpulp\u001b[0m\u001b[0;34m.\u001b[0m\u001b[0mlpSum\u001b[0m\u001b[0;34m(\u001b[0m\u001b[0;34m[\u001b[0m\u001b[0my\u001b[0m\u001b[0;34m[\u001b[0m\u001b[0;34m(\u001b[0m\u001b[0md\u001b[0m\u001b[0;34m,\u001b[0m \u001b[0mc\u001b[0m\u001b[0;34m)\u001b[0m\u001b[0;34m]\u001b[0m \u001b[0;32mfor\u001b[0m \u001b[0md\u001b[0m \u001b[0;32min\u001b[0m \u001b[0mwarehouses\u001b[0m\u001b[0;34m]\u001b[0m \u001b[0;34m+\u001b[0m \u001b[0;34m[\u001b[0m\u001b[0mz\u001b[0m\u001b[0;34m[\u001b[0m\u001b[0;34m(\u001b[0m\u001b[0mp\u001b[0m\u001b[0;34m,\u001b[0m \u001b[0mc\u001b[0m\u001b[0;34m)\u001b[0m\u001b[0;34m]\u001b[0m \u001b[0;32mfor\u001b[0m \u001b[0mp\u001b[0m \u001b[0;32min\u001b[0m \u001b[0mplants\u001b[0m\u001b[0;34m]\u001b[0m\u001b[0;34m)\u001b[0m \u001b[0;34m==\u001b[0m \u001b[0mn\u001b[0m\u001b[0;34m,\u001b[0m \u001b[0;34mf\"Demand for customer {c}\"\u001b[0m\u001b[0;34m\u001b[0m\u001b[0;34m\u001b[0m\u001b[0m\n\u001b[0m\u001b[1;32m     29\u001b[0m \u001b[0;34m\u001b[0m\u001b[0m\n\u001b[1;32m     30\u001b[0m \u001b[0;31m# Constraint for maximum warehouses per customer\u001b[0m\u001b[0;34m\u001b[0m\u001b[0;34m\u001b[0m\u001b[0m\n",
            "\u001b[0;32m<ipython-input-3-34960620e984>\u001b[0m in \u001b[0;36m<listcomp>\u001b[0;34m(.0)\u001b[0m\n\u001b[1;32m     26\u001b[0m \u001b[0;31m# Constraints for customer demand\u001b[0m\u001b[0;34m\u001b[0m\u001b[0;34m\u001b[0m\u001b[0m\n\u001b[1;32m     27\u001b[0m \u001b[0;32mfor\u001b[0m \u001b[0mc\u001b[0m \u001b[0;32min\u001b[0m \u001b[0mcustomers\u001b[0m\u001b[0;34m:\u001b[0m\u001b[0;34m\u001b[0m\u001b[0;34m\u001b[0m\u001b[0m\n\u001b[0;32m---> 28\u001b[0;31m     \u001b[0mprob\u001b[0m \u001b[0;34m+=\u001b[0m \u001b[0mpulp\u001b[0m\u001b[0;34m.\u001b[0m\u001b[0mlpSum\u001b[0m\u001b[0;34m(\u001b[0m\u001b[0;34m[\u001b[0m\u001b[0my\u001b[0m\u001b[0;34m[\u001b[0m\u001b[0;34m(\u001b[0m\u001b[0md\u001b[0m\u001b[0;34m,\u001b[0m \u001b[0mc\u001b[0m\u001b[0;34m)\u001b[0m\u001b[0;34m]\u001b[0m \u001b[0;32mfor\u001b[0m \u001b[0md\u001b[0m \u001b[0;32min\u001b[0m \u001b[0mwarehouses\u001b[0m\u001b[0;34m]\u001b[0m \u001b[0;34m+\u001b[0m \u001b[0;34m[\u001b[0m\u001b[0mz\u001b[0m\u001b[0;34m[\u001b[0m\u001b[0;34m(\u001b[0m\u001b[0mp\u001b[0m\u001b[0;34m,\u001b[0m \u001b[0mc\u001b[0m\u001b[0;34m)\u001b[0m\u001b[0;34m]\u001b[0m \u001b[0;32mfor\u001b[0m \u001b[0mp\u001b[0m \u001b[0;32min\u001b[0m \u001b[0mplants\u001b[0m\u001b[0;34m]\u001b[0m\u001b[0;34m)\u001b[0m \u001b[0;34m==\u001b[0m \u001b[0mn\u001b[0m\u001b[0;34m,\u001b[0m \u001b[0;34mf\"Demand for customer {c}\"\u001b[0m\u001b[0;34m\u001b[0m\u001b[0;34m\u001b[0m\u001b[0m\n\u001b[0m\u001b[1;32m     29\u001b[0m \u001b[0;34m\u001b[0m\u001b[0m\n\u001b[1;32m     30\u001b[0m \u001b[0;31m# Constraint for maximum warehouses per customer\u001b[0m\u001b[0;34m\u001b[0m\u001b[0;34m\u001b[0m\u001b[0m\n",
            "\u001b[0;31mKeyError\u001b[0m: ('D2', 'C1')"
          ]
        }
      ]
    }
  ]
}